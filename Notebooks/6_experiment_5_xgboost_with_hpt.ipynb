{
  "cells": [
    {
      "cell_type": "code",
      "execution_count": null,
      "metadata": {
        "colab": {
          "base_uri": "https://localhost:8080/"
        },
        "id": "UyaVxR3mCgpB",
        "outputId": "50d5e4b2-9b18-49e5-b179-b71374ea6488"
      },
      "outputs": [
        {
          "name": "stdout",
          "output_type": "stream",
          "text": [
            "Requirement already satisfied: mlflow in /usr/local/lib/python3.11/dist-packages (3.1.4)\n",
            "Requirement already satisfied: boto3 in /usr/local/lib/python3.11/dist-packages (1.39.13)\n",
            "Requirement already satisfied: awscli in /usr/local/lib/python3.11/dist-packages (1.41.13)\n",
            "Requirement already satisfied: optuna in /usr/local/lib/python3.11/dist-packages (4.4.0)\n",
            "Requirement already satisfied: xgboost in /usr/local/lib/python3.11/dist-packages (3.0.2)\n",
            "Requirement already satisfied: imbalanced-learn in /usr/local/lib/python3.11/dist-packages (0.13.0)\n",
            "Requirement already satisfied: mlflow-skinny==3.1.4 in /usr/local/lib/python3.11/dist-packages (from mlflow) (3.1.4)\n",
            "Requirement already satisfied: Flask<4 in /usr/local/lib/python3.11/dist-packages (from mlflow) (3.1.1)\n",
            "Requirement already satisfied: alembic!=1.10.0,<2 in /usr/local/lib/python3.11/dist-packages (from mlflow) (1.16.4)\n",
            "Requirement already satisfied: docker<8,>=4.0.0 in /usr/local/lib/python3.11/dist-packages (from mlflow) (7.1.0)\n",
            "Requirement already satisfied: graphene<4 in /usr/local/lib/python3.11/dist-packages (from mlflow) (3.4.3)\n",
            "Requirement already satisfied: gunicorn<24 in /usr/local/lib/python3.11/dist-packages (from mlflow) (23.0.0)\n",
            "Requirement already satisfied: matplotlib<4 in /usr/local/lib/python3.11/dist-packages (from mlflow) (3.10.0)\n",
            "Requirement already satisfied: numpy<3 in /usr/local/lib/python3.11/dist-packages (from mlflow) (2.0.2)\n",
            "Requirement already satisfied: pandas<3 in /usr/local/lib/python3.11/dist-packages (from mlflow) (2.2.2)\n",
            "Requirement already satisfied: pyarrow<21,>=4.0.0 in /usr/local/lib/python3.11/dist-packages (from mlflow) (18.1.0)\n",
            "Requirement already satisfied: scikit-learn<2 in /usr/local/lib/python3.11/dist-packages (from mlflow) (1.6.1)\n",
            "Requirement already satisfied: scipy<2 in /usr/local/lib/python3.11/dist-packages (from mlflow) (1.16.0)\n",
            "Requirement already satisfied: sqlalchemy<3,>=1.4.0 in /usr/local/lib/python3.11/dist-packages (from mlflow) (2.0.41)\n",
            "Requirement already satisfied: cachetools<7,>=5.0.0 in /usr/local/lib/python3.11/dist-packages (from mlflow-skinny==3.1.4->mlflow) (5.5.2)\n",
            "Requirement already satisfied: click<9,>=7.0 in /usr/local/lib/python3.11/dist-packages (from mlflow-skinny==3.1.4->mlflow) (8.2.1)\n",
            "Requirement already satisfied: cloudpickle<4 in /usr/local/lib/python3.11/dist-packages (from mlflow-skinny==3.1.4->mlflow) (3.1.1)\n",
            "Requirement already satisfied: databricks-sdk<1,>=0.20.0 in /usr/local/lib/python3.11/dist-packages (from mlflow-skinny==3.1.4->mlflow) (0.60.0)\n",
            "Requirement already satisfied: fastapi<1 in /usr/local/lib/python3.11/dist-packages (from mlflow-skinny==3.1.4->mlflow) (0.116.1)\n",
            "Requirement already satisfied: gitpython<4,>=3.1.9 in /usr/local/lib/python3.11/dist-packages (from mlflow-skinny==3.1.4->mlflow) (3.1.44)\n",
            "Requirement already satisfied: importlib_metadata!=4.7.0,<9,>=3.7.0 in /usr/local/lib/python3.11/dist-packages (from mlflow-skinny==3.1.4->mlflow) (8.7.0)\n",
            "Requirement already satisfied: opentelemetry-api<3,>=1.9.0 in /usr/local/lib/python3.11/dist-packages (from mlflow-skinny==3.1.4->mlflow) (1.35.0)\n",
            "Requirement already satisfied: opentelemetry-sdk<3,>=1.9.0 in /usr/local/lib/python3.11/dist-packages (from mlflow-skinny==3.1.4->mlflow) (1.35.0)\n",
            "Requirement already satisfied: packaging<26 in /usr/local/lib/python3.11/dist-packages (from mlflow-skinny==3.1.4->mlflow) (25.0)\n",
            "Requirement already satisfied: protobuf<7,>=3.12.0 in /usr/local/lib/python3.11/dist-packages (from mlflow-skinny==3.1.4->mlflow) (5.29.5)\n",
            "Requirement already satisfied: pydantic<3,>=1.10.8 in /usr/local/lib/python3.11/dist-packages (from mlflow-skinny==3.1.4->mlflow) (2.11.7)\n",
            "Requirement already satisfied: pyyaml<7,>=5.1 in /usr/local/lib/python3.11/dist-packages (from mlflow-skinny==3.1.4->mlflow) (6.0.2)\n",
            "Requirement already satisfied: requests<3,>=2.17.3 in /usr/local/lib/python3.11/dist-packages (from mlflow-skinny==3.1.4->mlflow) (2.32.3)\n",
            "Requirement already satisfied: sqlparse<1,>=0.4.0 in /usr/local/lib/python3.11/dist-packages (from mlflow-skinny==3.1.4->mlflow) (0.5.3)\n",
            "Requirement already satisfied: typing-extensions<5,>=4.0.0 in /usr/local/lib/python3.11/dist-packages (from mlflow-skinny==3.1.4->mlflow) (4.14.1)\n",
            "Requirement already satisfied: uvicorn<1 in /usr/local/lib/python3.11/dist-packages (from mlflow-skinny==3.1.4->mlflow) (0.35.0)\n",
            "Requirement already satisfied: botocore<1.40.0,>=1.39.13 in /usr/local/lib/python3.11/dist-packages (from boto3) (1.39.13)\n",
            "Requirement already satisfied: jmespath<2.0.0,>=0.7.1 in /usr/local/lib/python3.11/dist-packages (from boto3) (1.0.1)\n",
            "Requirement already satisfied: s3transfer<0.14.0,>=0.13.0 in /usr/local/lib/python3.11/dist-packages (from boto3) (0.13.1)\n",
            "Requirement already satisfied: docutils<=0.19,>=0.18.1 in /usr/local/lib/python3.11/dist-packages (from awscli) (0.19)\n",
            "Requirement already satisfied: colorama<0.4.7,>=0.2.5 in /usr/local/lib/python3.11/dist-packages (from awscli) (0.4.6)\n",
            "Requirement already satisfied: rsa<4.8,>=3.1.2 in /usr/local/lib/python3.11/dist-packages (from awscli) (4.7.2)\n",
            "Requirement already satisfied: python-dateutil<3.0.0,>=2.1 in /usr/local/lib/python3.11/dist-packages (from botocore<1.40.0,>=1.39.13->boto3) (2.9.0.post0)\n",
            "Requirement already satisfied: urllib3!=2.2.0,<3,>=1.25.4 in /usr/local/lib/python3.11/dist-packages (from botocore<1.40.0,>=1.39.13->boto3) (2.5.0)\n",
            "Requirement already satisfied: colorlog in /usr/local/lib/python3.11/dist-packages (from optuna) (6.9.0)\n",
            "Requirement already satisfied: tqdm in /usr/local/lib/python3.11/dist-packages (from optuna) (4.67.1)\n",
            "Requirement already satisfied: nvidia-nccl-cu12 in /usr/local/lib/python3.11/dist-packages (from xgboost) (2.21.5)\n",
            "Requirement already satisfied: sklearn-compat<1,>=0.1 in /usr/local/lib/python3.11/dist-packages (from imbalanced-learn) (0.1.3)\n",
            "Requirement already satisfied: joblib<2,>=1.1.1 in /usr/local/lib/python3.11/dist-packages (from imbalanced-learn) (1.5.1)\n",
            "Requirement already satisfied: threadpoolctl<4,>=2.0.0 in /usr/local/lib/python3.11/dist-packages (from imbalanced-learn) (3.6.0)\n",
            "Requirement already satisfied: Mako in /usr/lib/python3/dist-packages (from alembic!=1.10.0,<2->mlflow) (1.1.3)\n",
            "Requirement already satisfied: blinker>=1.9.0 in /usr/local/lib/python3.11/dist-packages (from Flask<4->mlflow) (1.9.0)\n",
            "Requirement already satisfied: itsdangerous>=2.2.0 in /usr/local/lib/python3.11/dist-packages (from Flask<4->mlflow) (2.2.0)\n",
            "Requirement already satisfied: jinja2>=3.1.2 in /usr/local/lib/python3.11/dist-packages (from Flask<4->mlflow) (3.1.6)\n",
            "Requirement already satisfied: markupsafe>=2.1.1 in /usr/local/lib/python3.11/dist-packages (from Flask<4->mlflow) (3.0.2)\n",
            "Requirement already satisfied: werkzeug>=3.1.0 in /usr/local/lib/python3.11/dist-packages (from Flask<4->mlflow) (3.1.3)\n",
            "Requirement already satisfied: graphql-core<3.3,>=3.1 in /usr/local/lib/python3.11/dist-packages (from graphene<4->mlflow) (3.2.6)\n",
            "Requirement already satisfied: graphql-relay<3.3,>=3.1 in /usr/local/lib/python3.11/dist-packages (from graphene<4->mlflow) (3.2.0)\n",
            "Requirement already satisfied: contourpy>=1.0.1 in /usr/local/lib/python3.11/dist-packages (from matplotlib<4->mlflow) (1.3.2)\n",
            "Requirement already satisfied: cycler>=0.10 in /usr/local/lib/python3.11/dist-packages (from matplotlib<4->mlflow) (0.12.1)\n",
            "Requirement already satisfied: fonttools>=4.22.0 in /usr/local/lib/python3.11/dist-packages (from matplotlib<4->mlflow) (4.59.0)\n",
            "Requirement already satisfied: kiwisolver>=1.3.1 in /usr/local/lib/python3.11/dist-packages (from matplotlib<4->mlflow) (1.4.8)\n",
            "Requirement already satisfied: pillow>=8 in /usr/local/lib/python3.11/dist-packages (from matplotlib<4->mlflow) (11.3.0)\n",
            "Requirement already satisfied: pyparsing>=2.3.1 in /usr/local/lib/python3.11/dist-packages (from matplotlib<4->mlflow) (3.2.3)\n",
            "Requirement already satisfied: pytz>=2020.1 in /usr/local/lib/python3.11/dist-packages (from pandas<3->mlflow) (2025.2)\n",
            "Requirement already satisfied: tzdata>=2022.7 in /usr/local/lib/python3.11/dist-packages (from pandas<3->mlflow) (2025.2)\n",
            "Requirement already satisfied: pyasn1>=0.1.3 in /usr/local/lib/python3.11/dist-packages (from rsa<4.8,>=3.1.2->awscli) (0.6.1)\n",
            "Requirement already satisfied: greenlet>=1 in /usr/local/lib/python3.11/dist-packages (from sqlalchemy<3,>=1.4.0->mlflow) (3.2.3)\n",
            "Requirement already satisfied: google-auth~=2.0 in /usr/local/lib/python3.11/dist-packages (from databricks-sdk<1,>=0.20.0->mlflow-skinny==3.1.4->mlflow) (2.38.0)\n",
            "Requirement already satisfied: starlette<0.48.0,>=0.40.0 in /usr/local/lib/python3.11/dist-packages (from fastapi<1->mlflow-skinny==3.1.4->mlflow) (0.47.2)\n",
            "Requirement already satisfied: gitdb<5,>=4.0.1 in /usr/local/lib/python3.11/dist-packages (from gitpython<4,>=3.1.9->mlflow-skinny==3.1.4->mlflow) (4.0.12)\n",
            "Requirement already satisfied: zipp>=3.20 in /usr/local/lib/python3.11/dist-packages (from importlib_metadata!=4.7.0,<9,>=3.7.0->mlflow-skinny==3.1.4->mlflow) (3.23.0)\n",
            "Requirement already satisfied: opentelemetry-semantic-conventions==0.56b0 in /usr/local/lib/python3.11/dist-packages (from opentelemetry-sdk<3,>=1.9.0->mlflow-skinny==3.1.4->mlflow) (0.56b0)\n",
            "Requirement already satisfied: annotated-types>=0.6.0 in /usr/local/lib/python3.11/dist-packages (from pydantic<3,>=1.10.8->mlflow-skinny==3.1.4->mlflow) (0.7.0)\n",
            "Requirement already satisfied: pydantic-core==2.33.2 in /usr/local/lib/python3.11/dist-packages (from pydantic<3,>=1.10.8->mlflow-skinny==3.1.4->mlflow) (2.33.2)\n",
            "Requirement already satisfied: typing-inspection>=0.4.0 in /usr/local/lib/python3.11/dist-packages (from pydantic<3,>=1.10.8->mlflow-skinny==3.1.4->mlflow) (0.4.1)\n",
            "Requirement already satisfied: six>=1.5 in /usr/local/lib/python3.11/dist-packages (from python-dateutil<3.0.0,>=2.1->botocore<1.40.0,>=1.39.13->boto3) (1.17.0)\n",
            "Requirement already satisfied: charset-normalizer<4,>=2 in /usr/local/lib/python3.11/dist-packages (from requests<3,>=2.17.3->mlflow-skinny==3.1.4->mlflow) (3.4.2)\n",
            "Requirement already satisfied: idna<4,>=2.5 in /usr/local/lib/python3.11/dist-packages (from requests<3,>=2.17.3->mlflow-skinny==3.1.4->mlflow) (3.10)\n",
            "Requirement already satisfied: certifi>=2017.4.17 in /usr/local/lib/python3.11/dist-packages (from requests<3,>=2.17.3->mlflow-skinny==3.1.4->mlflow) (2025.7.14)\n",
            "Requirement already satisfied: h11>=0.8 in /usr/local/lib/python3.11/dist-packages (from uvicorn<1->mlflow-skinny==3.1.4->mlflow) (0.16.0)\n",
            "Requirement already satisfied: smmap<6,>=3.0.1 in /usr/local/lib/python3.11/dist-packages (from gitdb<5,>=4.0.1->gitpython<4,>=3.1.9->mlflow-skinny==3.1.4->mlflow) (5.0.2)\n",
            "Requirement already satisfied: pyasn1-modules>=0.2.1 in /usr/local/lib/python3.11/dist-packages (from google-auth~=2.0->databricks-sdk<1,>=0.20.0->mlflow-skinny==3.1.4->mlflow) (0.4.2)\n",
            "Requirement already satisfied: anyio<5,>=3.6.2 in /usr/local/lib/python3.11/dist-packages (from starlette<0.48.0,>=0.40.0->fastapi<1->mlflow-skinny==3.1.4->mlflow) (4.9.0)\n",
            "Requirement already satisfied: sniffio>=1.1 in /usr/local/lib/python3.11/dist-packages (from anyio<5,>=3.6.2->starlette<0.48.0,>=0.40.0->fastapi<1->mlflow-skinny==3.1.4->mlflow) (1.3.1)\n"
          ]
        }
      ],
      "source": [
        "!pip install mlflow boto3 awscli optuna xgboost imbalanced-learn"
      ]
    },
    {
      "cell_type": "code",
      "execution_count": null,
      "metadata": {
        "id": "9k6oZsh2CO7M"
      },
      "outputs": [],
      "source": [
        "from google.colab import userdata\n",
        "import os\n",
        "\n",
        "# Retrieve AWS credentials from Colab Secrets\n",
        "aws_access_key = userdata.get('AWS_ACCESS_KEY_ID')\n",
        "aws_secret_key = userdata.get('AWS_SECRET_ACCESS_KEY')\n",
        "mlflow_uri = userdata.get('MLFLOW_TRACKING_URI')\n",
        "\n",
        "# Set as environment variables (for boto3 and AWS CLI)\n",
        "os.environ[\"AWS_ACCESS_KEY_ID\"] = aws_access_key\n",
        "os.environ[\"AWS_SECRET_ACCESS_KEY\"] = aws_secret_key"
      ]
    },
    {
      "cell_type": "code",
      "execution_count": null,
      "metadata": {
        "colab": {
          "base_uri": "https://localhost:8080/"
        },
        "id": "bCk0G0APCeiS",
        "outputId": "f0a0875f-e83e-4c66-d3f4-d5aca3ff516f"
      },
      "outputs": [
        {
          "name": "stderr",
          "output_type": "stream",
          "text": [
            "2025/07/25 01:45:14 INFO mlflow.tracking.fluent: Experiment with name 'Exp 5 - ML Algos with hp Tuning' does not exist. Creating a new experiment.\n"
          ]
        },
        {
          "data": {
            "text/plain": [
              "<Experiment: artifact_location='s3://sumanthdatahub/mlflow-artifacts/805851809516210167', creation_time=1753407914079, experiment_id='805851809516210167', last_update_time=1753407914079, lifecycle_stage='active', name='Exp 5 - ML Algos with hp Tuning', tags={}>"
            ]
          },
          "execution_count": 19,
          "metadata": {},
          "output_type": "execute_result"
        }
      ],
      "source": [
        "import mlflow\n",
        "mlflow.set_tracking_uri(mlflow_uri)\n",
        "mlflow.set_experiment(\"Exp 5 - ML Algos with hp Tuning\")"
      ]
    },
    {
      "cell_type": "code",
      "execution_count": null,
      "metadata": {
        "id": "-GmHXp-hC6t_"
      },
      "outputs": [],
      "source": [
        "import optuna\n",
        "import mlflow.sklearn\n",
        "from sklearn.model_selection import train_test_split\n",
        "from sklearn.metrics import accuracy_score, precision_score, classification_report\n",
        "from sklearn.feature_extraction.text import TfidfVectorizer\n",
        "from sklearn.linear_model import LogisticRegression\n",
        "from sklearn.svm import SVC\n",
        "from xgboost import XGBClassifier\n",
        "from lightgbm import LGBMClassifier\n",
        "from sklearn.neighbors import KNeighborsClassifier\n",
        "from sklearn.naive_bayes import MultinomialNB\n",
        "from sklearn.ensemble import RandomForestClassifier\n",
        "from imblearn.over_sampling import SMOTE\n",
        "import matplotlib.pyplot as plt\n",
        "import seaborn as sns\n",
        "import numpy as np\n",
        "import pandas as pd"
      ]
    },
    {
      "cell_type": "code",
      "execution_count": null,
      "metadata": {
        "colab": {
          "base_uri": "https://localhost:8080/"
        },
        "id": "dA5yItFeECyg",
        "outputId": "8ff10d2f-0327-4a67-f502-004711909139"
      },
      "outputs": [
        {
          "data": {
            "text/plain": [
              "(36710, 6)"
            ]
          },
          "execution_count": 21,
          "metadata": {},
          "output_type": "execute_result"
        }
      ],
      "source": [
        "# Read Preprocesssing Data\n",
        "df = pd.read_csv('/content/reddit_preprocessing.csv').dropna(subset=['clean_comment'])\n",
        "df.shape"
      ]
    },
    {
      "cell_type": "code",
      "execution_count": null,
      "metadata": {
        "id": "umEDnsIbEbYF"
      },
      "outputs": [],
      "source": [
        "# XGBoost Doesn't support -ve values so we transform\n",
        "df['category'] = df['category'].map({-1: 2, 0: 0, 1: 1})\n",
        "\n",
        "# Remove rows where target labels (Category) are NaN\n",
        "df = df.dropna(subset=['category'])\n",
        "ngram_range = (1,3)\n",
        "max_features = 1000\n",
        "\n",
        "# Vectorization using TF_IDF, fit on training data only\n",
        "X_train, X_test, y_train, y_test = train_test_split(df['clean_comment'], df['category'], test_size=0.2, random_state=42)\n",
        "\n",
        "vectorizer = TfidfVectorizer(ngram_range=ngram_range, max_features=max_features)\n",
        "X_train_vec = vectorizer.fit_transform(X_train)\n",
        "X_test_vec = vectorizer.transform(X_test)\n",
        "\n",
        "smote = SMOTE(random_state=42)\n",
        "X_train_vec, y_train_vec = smote.fit_resample(X_train_vec, y_train)"
      ]
    },
    {
      "cell_type": "code",
      "execution_count": null,
      "metadata": {
        "id": "oYrJJ0XHHs4u"
      },
      "outputs": [],
      "source": [
        "def log_mlflow(model_name, model, X_train, X_test, y_train, y_test):\n",
        "    with mlflow.start_run() as run:\n",
        "        # Set Tags\n",
        "        tags = {\n",
        "            \"mlflow.runName\": f\"{model_name}_SMOTE_TFIDF_Trigrams\",\n",
        "            \"experiment_type\": \"Algorithm Comparision\",\n",
        "            \"algo_name\": model_name,\n",
        "        }\n",
        "        mlflow.set_tags(tags)\n",
        "\n",
        "        # Train Model\n",
        "        model.fit(X_train, y_train)\n",
        "        y_pred = model.predict(X_test)\n",
        "\n",
        "        # Log Metrics\n",
        "        accuracy = accuracy_score(y_test, y_pred)\n",
        "        mlflow.log_metric(\"accuracy\", accuracy)\n",
        "\n",
        "        # Log Classification Report\n",
        "        report = classification_report(y_test, y_pred, output_dict=True)\n",
        "\n",
        "        for label, metrics in report.items():\n",
        "          if isinstance(metrics, dict):\n",
        "            for metric, value in metrics.items():\n",
        "                mlflow.log_metric(f\"{label}_{metric}\", value)\n",
        "        mlflow.log_model(model, f\"{model_name}_model\")\n",
        "\n",
        "# Optuna Objective Function for XGBoost\n",
        "def objective_xgboost(trial):\n",
        "  n_estimators = trial.suggest_int(\"n_estimators\", 50, 300)\n",
        "  learning_rate = trial.suggest_float(\"learning_rate\", 1e-4, 1e-1, log=True)\n",
        "  max_depth = trial.suggest_int(\"max_depth\", 3, 10)\n",
        "\n",
        "  model = XGBClassifier(\n",
        "      n_estimators=n_estimators,\n",
        "      learning_rate=learning_rate,\n",
        "      max_depth=max_depth,\n",
        "      random_state=42\n",
        "  )\n",
        "  return accuracy_score(y_test, model.fit(X_train_vec, y_train_vec).predict(X_test_vec))\n",
        "\n",
        "# Run Optuna For XGBoost, log the best model only\n",
        "def run_optuna_experiment():\n",
        "    study = optuna.create_study(direction=\"maximize\")\n",
        "    study.optimize(objective_xgboost, n_trials=30)\n",
        "\n",
        "    # Get the Best params and log only the best model\n",
        "    best_params = study.best_params\n",
        "    best_model = XGBClassifier(\n",
        "        n_estimators=best_params[\"n_estimators\"],\n",
        "        learning_rate=best_params[\"learning_rate\"],\n",
        "        max_depth=best_params[\"max_depth\"],\n",
        "        random_state=42\n",
        "    )\n",
        "\n",
        "    log_mlflow(\"XGBoost\", best_model, X_train_vec, X_test_vec, y_train_vec, y_test)"
      ]
    },
    {
      "cell_type": "code",
      "execution_count": null,
      "metadata": {
        "colab": {
          "background_save": true,
          "base_uri": "https://localhost:8080/"
        },
        "id": "PDMK2saEIeze",
        "outputId": "5fd5424c-c2d9-43a3-807e-410d9a24de1d"
      },
      "outputs": [
        {
          "metadata": {
            "tags": null
          },
          "name": "stderr",
          "output_type": "stream",
          "text": [
            "[I 2025-07-25 01:45:43,557] A new study created in memory with name: no-name-8da5b18c-e05e-4fce-91cb-2a8a64595e12\n",
            "[I 2025-07-25 01:48:13,643] Trial 0 finished with value: 0.5363661127758104 and parameters: {'n_estimators': 245, 'learning_rate': 0.00017456858083376878, 'max_depth': 5}. Best is trial 0 with value: 0.5363661127758104.\n",
            "[I 2025-07-25 01:48:44,989] Trial 1 finished with value: 0.5435848542631435 and parameters: {'n_estimators': 52, 'learning_rate': 0.002989125533083698, 'max_depth': 5}. Best is trial 1 with value: 0.5435848542631435.\n",
            "[I 2025-07-25 01:58:53,339] Trial 2 finished with value: 0.6491419231816944 and parameters: {'n_estimators': 273, 'learning_rate': 0.003254808364476957, 'max_depth': 10}. Best is trial 2 with value: 0.6491419231816944.\n",
            "[I 2025-07-25 01:59:46,914] Trial 3 finished with value: 0.545491691637156 and parameters: {'n_estimators': 139, 'learning_rate': 0.0020379053347280994, 'max_depth': 4}. Best is trial 2 with value: 0.6491419231816944.\n",
            "[I 2025-07-25 02:00:18,782] Trial 4 finished with value: 0.49155543448651595 and parameters: {'n_estimators': 135, 'learning_rate': 0.00011674966494653169, 'max_depth': 3}. Best is trial 2 with value: 0.6491419231816944.\n",
            "[I 2025-07-25 02:02:49,026] Trial 5 finished with value: 0.6063742849359848 and parameters: {'n_estimators': 250, 'learning_rate': 0.00459788559763263, 'max_depth': 5}. Best is trial 2 with value: 0.6491419231816944.\n",
            "[I 2025-07-25 02:06:26,888] Trial 6 finished with value: 0.7743121765186598 and parameters: {'n_estimators': 166, 'learning_rate': 0.07818462404321251, 'max_depth': 10}. Best is trial 6 with value: 0.7743121765186598.\n",
            "[I 2025-07-25 02:07:27,208] Trial 7 finished with value: 0.5414056115499863 and parameters: {'n_estimators': 251, 'learning_rate': 0.002210493635181926, 'max_depth': 3}. Best is trial 6 with value: 0.7743121765186598.\n",
            "[I 2025-07-25 02:08:26,636] Trial 8 finished with value: 0.5871697085262871 and parameters: {'n_estimators': 53, 'learning_rate': 0.00931334080316733, 'max_depth': 7}. Best is trial 6 with value: 0.7743121765186598.\n",
            "[I 2025-07-25 02:11:00,328] Trial 9 finished with value: 0.6016071915009534 and parameters: {'n_estimators': 107, 'learning_rate': 0.002866052073423224, 'max_depth': 8}. Best is trial 6 with value: 0.7743121765186598.\n",
            "[I 2025-07-25 02:14:58,972] Trial 10 finished with value: 0.7828929447017161 and parameters: {'n_estimators': 201, 'learning_rate': 0.08535101374559367, 'max_depth': 10}. Best is trial 10 with value: 0.7828929447017161.\n",
            "[I 2025-07-25 02:18:51,559] Trial 11 finished with value: 0.7839825660582947 and parameters: {'n_estimators': 199, 'learning_rate': 0.09705380953804228, 'max_depth': 10}. Best is trial 11 with value: 0.7839825660582947.\n",
            "[I 2025-07-25 02:22:13,872] Trial 12 finished with value: 0.7820757286842822 and parameters: {'n_estimators': 208, 'learning_rate': 0.09400677004244197, 'max_depth': 9}. Best is trial 11 with value: 0.7839825660582947.\n",
            "[I 2025-07-25 02:26:12,247] Trial 13 finished with value: 0.7138381912285481 and parameters: {'n_estimators': 203, 'learning_rate': 0.027337615501241027, 'max_depth': 8}. Best is trial 11 with value: 0.7839825660582947.\n",
            "[I 2025-07-25 02:32:37,457] Trial 14 finished with value: 0.7461182239171887 and parameters: {'n_estimators': 300, 'learning_rate': 0.026755697836067825, 'max_depth': 9}. Best is trial 11 with value: 0.7839825660582947.\n",
            "[I 2025-07-25 02:38:10,212] Trial 15 finished with value: 0.7350858076818305 and parameters: {'n_estimators': 200, 'learning_rate': 0.029966769285312295, 'max_depth': 10}. Best is trial 11 with value: 0.7839825660582947.\n",
            "[I 2025-07-25 02:41:24,776] Trial 16 finished with value: 0.5637428493598474 and parameters: {'n_estimators': 177, 'learning_rate': 0.000847902568200128, 'max_depth': 7}. Best is trial 11 with value: 0.7839825660582947.\n",
            "[I 2025-07-25 02:45:42,404] Trial 17 finished with value: 0.7598746935439935 and parameters: {'n_estimators': 221, 'learning_rate': 0.047572717225557955, 'max_depth': 9}. Best is trial 11 with value: 0.7839825660582947.\n",
            "[I 2025-07-25 02:49:43,496] Trial 18 finished with value: 0.6615363661127758 and parameters: {'n_estimators': 169, 'learning_rate': 0.01151177314151898, 'max_depth': 8}. Best is trial 11 with value: 0.7839825660582947.\n",
            "[I 2025-07-25 02:51:18,591] Trial 19 finished with value: 0.6333424135113048 and parameters: {'n_estimators': 115, 'learning_rate': 0.01234253233253293, 'max_depth': 6}. Best is trial 11 with value: 0.7839825660582947.\n",
            "[I 2025-07-25 02:58:05,145] Trial 20 finished with value: 0.5946608553527649 and parameters: {'n_estimators': 230, 'learning_rate': 0.0005117106706063668, 'max_depth': 9}. Best is trial 11 with value: 0.7839825660582947.\n",
            "[I 2025-07-25 03:01:58,891] Trial 21 finished with value: 0.7819395260147098 and parameters: {'n_estimators': 197, 'learning_rate': 0.0846402229813802, 'max_depth': 10}. Best is trial 11 with value: 0.7839825660582947.\n",
            "[I 2025-07-25 03:05:30,788] Trial 22 finished with value: 0.785344592754018 and parameters: {'n_estimators': 220, 'learning_rate': 0.09124940943241734, 'max_depth': 9}. Best is trial 22 with value: 0.785344592754018.\n",
            "[I 2025-07-25 03:10:07,989] Trial 23 finished with value: 0.7546989921002452 and parameters: {'n_estimators': 188, 'learning_rate': 0.044795035372191795, 'max_depth': 10}. Best is trial 22 with value: 0.785344592754018.\n",
            "[I 2025-07-25 03:13:27,996] Trial 24 finished with value: 0.7401253064560065 and parameters: {'n_estimators': 154, 'learning_rate': 0.047645336195428434, 'max_depth': 9}. Best is trial 22 with value: 0.785344592754018.\n"
          ]
        }
      ],
      "source": [
        "# Run Optuna Experiment\n",
        "run_optuna_experiment()"
      ]
    }
  ],
  "metadata": {
    "colab": {
      "provenance": []
    },
    "kernelspec": {
      "display_name": "Python 3",
      "name": "python3"
    },
    "language_info": {
      "name": "python"
    }
  },
  "nbformat": 4,
  "nbformat_minor": 0
}